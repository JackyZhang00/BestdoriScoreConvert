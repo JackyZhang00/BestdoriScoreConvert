{
 "cells": [
  {
   "cell_type": "code",
   "execution_count": 1,
   "id": "8e82f283-0d88-4f65-82f8-e5b603555132",
   "metadata": {},
   "outputs": [
    {
     "name": "stdout",
     "output_type": "stream",
     "text": [
      "hello\n"
     ]
    }
   ],
   "source": [
    "print(\"hello\")"
   ]
  },
  {
   "cell_type": "code",
   "execution_count": 4,
   "id": "9214d56d-c8f0-4b64-91c7-5d61cf5242d7",
   "metadata": {},
   "outputs": [],
   "source": [
    "import random\n",
    "from Score import *"
   ]
  },
  {
   "cell_type": "code",
   "execution_count": 8,
   "id": "cf51d463-f6e8-4850-aecc-f8269f698d95",
   "metadata": {},
   "outputs": [
    {
     "name": "stdout",
     "output_type": "stream",
     "text": [
      "[{\"type\":\"BPM\",\"bpm\":120,\"beat\":10.0},{\"type\":\"Single\",\"lane\":5,\"beat\":10.0},{\"type\":\"Single\",\"lane\":0,\"beat\":11.0},{\"type\":\"Single\",\"lane\":6,\"beat\":11.0},{\"type\":\"Single\",\"lane\":6,\"beat\":11.5},{\"type\":\"Single\",\"lane\":3,\"beat\":11.5}]\n"
     ]
    }
   ],
   "source": [
    "s=Score()\n",
    "s.addNote(BPM(120))\n",
    "s.addNote(Beat(4))\n",
    "s.addNote(DSingle(8))\n",
    "s.addNote(DSingle(4))\n",
    "print(s.getScore())"
   ]
  },
  {
   "cell_type": "code",
   "execution_count": null,
   "id": "2edd71b9-b709-460b-8b16-2fa5f3ee37c1",
   "metadata": {},
   "outputs": [],
   "source": []
  }
 ],
 "metadata": {
  "kernelspec": {
   "display_name": "Python 3 (ipykernel)",
   "language": "python",
   "name": "python3"
  },
  "language_info": {
   "codemirror_mode": {
    "name": "ipython",
    "version": 3
   },
   "file_extension": ".py",
   "mimetype": "text/x-python",
   "name": "python",
   "nbconvert_exporter": "python",
   "pygments_lexer": "ipython3",
   "version": "3.9.12"
  }
 },
 "nbformat": 4,
 "nbformat_minor": 5
}
