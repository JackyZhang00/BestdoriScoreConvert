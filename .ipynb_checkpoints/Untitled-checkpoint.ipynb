{
 "cells": [
  {
   "cell_type": "code",
   "execution_count": 1,
   "id": "8e82f283-0d88-4f65-82f8-e5b603555132",
   "metadata": {},
   "outputs": [
    {
     "name": "stdout",
     "output_type": "stream",
     "text": [
      "hello\n"
     ]
    }
   ],
   "source": [
    "print(\"hello\")"
   ]
  },
  {
   "cell_type": "code",
   "execution_count": 41,
   "id": "9214d56d-c8f0-4b64-91c7-5d61cf5242d7",
   "metadata": {},
   "outputs": [],
   "source": [
    "import Score"
   ]
  },
  {
   "cell_type": "code",
   "execution_count": 45,
   "id": "cf51d463-f6e8-4850-aecc-f8269f698d95",
   "metadata": {},
   "outputs": [
    {
     "ename": "AttributeError",
     "evalue": "module 'Score' has no attribute 'DSingle'",
     "output_type": "error",
     "traceback": [
      "\u001b[1;31m---------------------------------------------------------------------\u001b[0m",
      "\u001b[1;31mAttributeError\u001b[0m                      Traceback (most recent call last)",
      "Input \u001b[1;32mIn [45]\u001b[0m, in \u001b[0;36m<cell line: 2>\u001b[1;34m()\u001b[0m\n\u001b[0;32m      1\u001b[0m s\u001b[38;5;241m=\u001b[39mScore\u001b[38;5;241m.\u001b[39mScore()\n\u001b[1;32m----> 2\u001b[0m s\u001b[38;5;241m.\u001b[39maddNote(\u001b[43mScore\u001b[49m\u001b[38;5;241;43m.\u001b[39;49m\u001b[43mDSingle\u001b[49m(\u001b[38;5;241m4\u001b[39m))\n\u001b[0;32m      3\u001b[0m s\u001b[38;5;241m.\u001b[39maddNote(DSingle(\u001b[38;5;241m8\u001b[39m))\n\u001b[0;32m      4\u001b[0m s\u001b[38;5;241m.\u001b[39maddNote(DSingle(\u001b[38;5;241m4\u001b[39m))\n",
      "\u001b[1;31mAttributeError\u001b[0m: module 'Score' has no attribute 'DSingle'"
     ]
    }
   ],
   "source": [
    "s=Score.Score()\n",
    "s.addNote(Score.DSingle(4))\n",
    "s.addNote(DSingle(8))\n",
    "s.addNote(DSingle(4))\n",
    "print(s.getScore())"
   ]
  },
  {
   "cell_type": "code",
   "execution_count": null,
   "id": "2edd71b9-b709-460b-8b16-2fa5f3ee37c1",
   "metadata": {},
   "outputs": [],
   "source": []
  }
 ],
 "metadata": {
  "kernelspec": {
   "display_name": "Python 3 (ipykernel)",
   "language": "python",
   "name": "python3"
  },
  "language_info": {
   "codemirror_mode": {
    "name": "ipython",
    "version": 3
   },
   "file_extension": ".py",
   "mimetype": "text/x-python",
   "name": "python",
   "nbconvert_exporter": "python",
   "pygments_lexer": "ipython3",
   "version": "3.9.12"
  }
 },
 "nbformat": 4,
 "nbformat_minor": 5
}
